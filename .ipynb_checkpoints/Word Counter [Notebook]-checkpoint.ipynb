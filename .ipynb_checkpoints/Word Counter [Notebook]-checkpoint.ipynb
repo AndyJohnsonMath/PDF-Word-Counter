{
 "cells": [
  {
   "cell_type": "code",
   "execution_count": 19,
   "id": "0c9e46b3",
   "metadata": {},
   "outputs": [],
   "source": [
    "import PyPDF2\n",
    "import pdfWordCounter as wc\n",
    "import sys\n",
    "from PyQt6.QtWidgets import QApplication, QLabel, QWidget"
   ]
  },
  {
   "cell_type": "code",
   "execution_count": null,
   "id": "d743c076-eaf3-499c-8874-d612a85cdcca",
   "metadata": {},
   "outputs": [],
   "source": [
    "# Create the app instance before creating any GUI object\n",
    "app = QApplication([])\n",
    "window = QWidget()\n",
    "window.setWindowTitle(\"PDF Word Counter\")\n",
    "window.setGeometry(100, 100, 280, 80)\n",
    "helloMsg = QLabel(\"<h1>Hello, World!</h1>\", parent=window)\n",
    "helloMsg.move(60, 15)\n",
    "window.show()\n",
    "sys.exit(app.exec())"
   ]
  },
  {
   "cell_type": "code",
   "execution_count": null,
   "id": "d039df17-21fd-44f8-a670-29e2b385f835",
   "metadata": {},
   "outputs": [],
   "source": []
  }
 ],
 "metadata": {
  "kernelspec": {
   "display_name": "Python 3 (ipykernel)",
   "language": "python",
   "name": "python3"
  },
  "language_info": {
   "codemirror_mode": {
    "name": "ipython",
    "version": 3
   },
   "file_extension": ".py",
   "mimetype": "text/x-python",
   "name": "python",
   "nbconvert_exporter": "python",
   "pygments_lexer": "ipython3",
   "version": "3.9.13"
  }
 },
 "nbformat": 4,
 "nbformat_minor": 5
}
