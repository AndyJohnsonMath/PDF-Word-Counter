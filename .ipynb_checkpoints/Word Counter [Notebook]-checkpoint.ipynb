{
 "cells": [
  {
   "cell_type": "code",
   "execution_count": 1,
   "id": "0c9e46b3",
   "metadata": {},
   "outputs": [],
   "source": [
    "import PyPDF2"
   ]
  },
  {
   "cell_type": "code",
   "execution_count": 2,
   "id": "1c327805",
   "metadata": {},
   "outputs": [],
   "source": [
    "# Load in the pdf you want\n",
    "pdf = PyPDF2.PdfReader(\"Ubik Phillip K Dick.pdf\")\n",
    "\n",
    "# for i in range(0, len(pdf.pages)): \n",
    "#     content = pdf.pages[i].extract_text() \n",
    "#     count += len(content.split())\n",
    "\n",
    "# Declare start and end pages, and initialize the word count varialbe\n",
    "pageStart = 2\n",
    "pageEnd = 209\n",
    "wordCount = 0 \n",
    "\n",
    "for i in range(pageStart, pageEnd): \n",
    "    content = pdf.pages[i].extract_text() \n",
    "    wordCount += len(content.split()) \n",
    "\n",
    "wordCount -= len(pdf.pages)\n",
    "print(wordCount) "
   ]
  },
  {
   "cell_type": "code",
   "execution_count": 4,
   "id": "05ae727f",
   "metadata": {},
   "outputs": [],
   "source": [
    "print(wordCount)"
   ]
  },
  {
   "cell_type": "code",
   "execution_count": 6,
   "id": "c21ea87b",
   "metadata": {},
   "outputs": [
    {
     "name": "stdout",
     "output_type": "stream",
     "text": [
      "3\n"
     ]
    }
   ],
   "source": [
    "def wordCounter(pdf,pageStart,pageEnd):\n",
    "    pdf = PyPDF2.PdfReader(\"The Old Man And The Sea.pdf\")\n",
    "\n",
    "    # for i in range(0, len(pdf.pages)): \n",
    "    #     content = pdf.pages[i].extract_text() \n",
    "    #     count += len(content.split())\n",
    "\n",
    "    # Declare start and end pages, and initialize the word count varialbe\n",
    "    pageStart = 2\n",
    "    pageEnd = 96\n",
    "    wordCount = 0 \n",
    "\n",
    "    for i in range(pageStart, pageEnd): \n",
    "        content = pdf.pages[i].extract_text() \n",
    "        wordCount += len(content.split()) \n",
    "\n",
    "    wordCount -= len(pdf.pages)\n",
    "    return(wordCount)"
   ]
  },
  {
   "cell_type": "code",
   "execution_count": null,
   "id": "173ed8a6",
   "metadata": {},
   "outputs": [],
   "source": []
  }
 ],
 "metadata": {
  "kernelspec": {
   "display_name": "Python 3 (ipykernel)",
   "language": "python",
   "name": "python3"
  },
  "language_info": {
   "codemirror_mode": {
    "name": "ipython",
    "version": 3
   },
   "file_extension": ".py",
   "mimetype": "text/x-python",
   "name": "python",
   "nbconvert_exporter": "python",
   "pygments_lexer": "ipython3",
   "version": "3.9.6"
  }
 },
 "nbformat": 4,
 "nbformat_minor": 5
}
